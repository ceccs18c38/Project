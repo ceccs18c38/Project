{
 "cells": [
  {
   "cell_type": "code",
   "execution_count": 34,
   "id": "e014ebcc",
   "metadata": {},
   "outputs": [],
   "source": [
    "import pandas as pd\n",
    "\n"
   ]
  },
  {
   "cell_type": "code",
   "execution_count": 35,
   "id": "597f70b1",
   "metadata": {},
   "outputs": [],
   "source": [
    "import numpy as np"
   ]
  },
  {
   "cell_type": "markdown",
   "id": "a2b917fd",
   "metadata": {},
   "source": [
    "\n",
    "# first dataset"
   ]
  },
  {
   "cell_type": "code",
   "execution_count": 36,
   "id": "05e106b7",
   "metadata": {},
   "outputs": [],
   "source": [
    "df1=pd.read_csv(\"result.csv\")\n"
   ]
  },
  {
   "cell_type": "code",
   "execution_count": 64,
   "id": "102a3447",
   "metadata": {},
   "outputs": [
    {
     "data": {
      "text/html": [
       "<div>\n",
       "<style scoped>\n",
       "    .dataframe tbody tr th:only-of-type {\n",
       "        vertical-align: middle;\n",
       "    }\n",
       "\n",
       "    .dataframe tbody tr th {\n",
       "        vertical-align: top;\n",
       "    }\n",
       "\n",
       "    .dataframe thead th {\n",
       "        text-align: right;\n",
       "    }\n",
       "</style>\n",
       "<table border=\"1\" class=\"dataframe\">\n",
       "  <thead>\n",
       "    <tr style=\"text-align: right;\">\n",
       "      <th></th>\n",
       "      <th>Unnamed: 0</th>\n",
       "      <th>source</th>\n",
       "      <th>label</th>\n",
       "      <th>text</th>\n",
       "    </tr>\n",
       "  </thead>\n",
       "  <tbody>\n",
       "    <tr>\n",
       "      <th>0</th>\n",
       "      <td>0</td>\n",
       "      <td>coronavirusmedicalkit.com</td>\n",
       "      <td>0</td>\n",
       "      <td>You just need to add water, and the drugs and ...</td>\n",
       "    </tr>\n",
       "    <tr>\n",
       "      <th>1</th>\n",
       "      <td>1</td>\n",
       "      <td>RudyGiuliani</td>\n",
       "      <td>0</td>\n",
       "      <td>Hydroxychloroquine has been shown to have a 10...</td>\n",
       "    </tr>\n",
       "    <tr>\n",
       "      <th>2</th>\n",
       "      <td>2</td>\n",
       "      <td>CharlieKirk</td>\n",
       "      <td>0</td>\n",
       "      <td>Fact: Hydroxychloroquine has been shown to hav...</td>\n",
       "    </tr>\n",
       "    <tr>\n",
       "      <th>3</th>\n",
       "      <td>3</td>\n",
       "      <td>JoanneWrightForCongress</td>\n",
       "      <td>0</td>\n",
       "      <td>The Corona virus is a man made virus created i...</td>\n",
       "    </tr>\n",
       "    <tr>\n",
       "      <th>4</th>\n",
       "      <td>4</td>\n",
       "      <td>JoanneWrightForCongress</td>\n",
       "      <td>0</td>\n",
       "      <td>Doesnâ€™t @BillGates finance research at the W...</td>\n",
       "    </tr>\n",
       "  </tbody>\n",
       "</table>\n",
       "</div>"
      ],
      "text/plain": [
       "   Unnamed: 0                     source  label  \\\n",
       "0           0  coronavirusmedicalkit.com      0   \n",
       "1           1               RudyGiuliani      0   \n",
       "2           2                CharlieKirk      0   \n",
       "3           3    JoanneWrightForCongress      0   \n",
       "4           4    JoanneWrightForCongress      0   \n",
       "\n",
       "                                                text  \n",
       "0  You just need to add water, and the drugs and ...  \n",
       "1  Hydroxychloroquine has been shown to have a 10...  \n",
       "2  Fact: Hydroxychloroquine has been shown to hav...  \n",
       "3  The Corona virus is a man made virus created i...  \n",
       "4  Doesnâ€™t @BillGates finance research at the W...  "
      ]
     },
     "execution_count": 64,
     "metadata": {},
     "output_type": "execute_result"
    }
   ],
   "source": [
    "df1.head(5)"
   ]
  },
  {
   "cell_type": "code",
   "execution_count": 38,
   "id": "d6ecd90d",
   "metadata": {},
   "outputs": [
    {
     "data": {
      "text/plain": [
       "(13851, 4)"
      ]
     },
     "execution_count": 38,
     "metadata": {},
     "output_type": "execute_result"
    }
   ],
   "source": [
    "df1.shape"
   ]
  },
  {
   "cell_type": "code",
   "execution_count": 43,
   "id": "55117b85",
   "metadata": {},
   "outputs": [
    {
     "data": {
      "text/plain": [
       "0    11215\n",
       "1     2636\n",
       "Name: label, dtype: int64"
      ]
     },
     "execution_count": 43,
     "metadata": {},
     "output_type": "execute_result"
    }
   ],
   "source": [
    "df1['label'].value_counts()"
   ]
  },
  {
   "cell_type": "markdown",
   "id": "e0d16284",
   "metadata": {},
   "source": [
    "# 2nd dataset"
   ]
  },
  {
   "cell_type": "code",
   "execution_count": 44,
   "id": "5fc52065",
   "metadata": {},
   "outputs": [],
   "source": [
    "df2=pd.read_csv(\"fake_new_dataset.csv\")"
   ]
  },
  {
   "cell_type": "code",
   "execution_count": 65,
   "id": "83dbe79c",
   "metadata": {},
   "outputs": [
    {
     "data": {
      "text/html": [
       "<div>\n",
       "<style scoped>\n",
       "    .dataframe tbody tr th:only-of-type {\n",
       "        vertical-align: middle;\n",
       "    }\n",
       "\n",
       "    .dataframe tbody tr th {\n",
       "        vertical-align: top;\n",
       "    }\n",
       "\n",
       "    .dataframe thead th {\n",
       "        text-align: right;\n",
       "    }\n",
       "</style>\n",
       "<table border=\"1\" class=\"dataframe\">\n",
       "  <thead>\n",
       "    <tr style=\"text-align: right;\">\n",
       "      <th></th>\n",
       "      <th>Unnamed: 0</th>\n",
       "      <th>title</th>\n",
       "      <th>text</th>\n",
       "      <th>subcategory</th>\n",
       "      <th>label</th>\n",
       "    </tr>\n",
       "  </thead>\n",
       "  <tbody>\n",
       "    <tr>\n",
       "      <th>0</th>\n",
       "      <td>0</td>\n",
       "      <td>FACEBOOK DELETES MICHIGAN ANTI-LOCKDOWN GROUP ...</td>\n",
       "      <td>Facebook has shuttered a popular group for Mic...</td>\n",
       "      <td>false news</td>\n",
       "      <td>0</td>\n",
       "    </tr>\n",
       "    <tr>\n",
       "      <th>1</th>\n",
       "      <td>1</td>\n",
       "      <td>Other Viewpoints: COVID-19 is worse than the flu</td>\n",
       "      <td>We can now officially put to rest all comparis...</td>\n",
       "      <td>true</td>\n",
       "      <td>1</td>\n",
       "    </tr>\n",
       "    <tr>\n",
       "      <th>2</th>\n",
       "      <td>2</td>\n",
       "      <td>Bermuda's COVID-19 cases surpass 100</td>\n",
       "      <td>The Ministry of Health in Bermuda has confirme...</td>\n",
       "      <td>true</td>\n",
       "      <td>1</td>\n",
       "    </tr>\n",
       "    <tr>\n",
       "      <th>3</th>\n",
       "      <td>3</td>\n",
       "      <td>Purdue University says students face 'close to...</td>\n",
       "      <td>Purdue University President Mitch Daniels, the...</td>\n",
       "      <td>partially false</td>\n",
       "      <td>0</td>\n",
       "    </tr>\n",
       "    <tr>\n",
       "      <th>4</th>\n",
       "      <td>4</td>\n",
       "      <td>THE HIGH COST OF LOCKING DOWN AMERICA: “WE’VE ...</td>\n",
       "      <td>Locking down much of the country may have help...</td>\n",
       "      <td>false news</td>\n",
       "      <td>0</td>\n",
       "    </tr>\n",
       "  </tbody>\n",
       "</table>\n",
       "</div>"
      ],
      "text/plain": [
       "   Unnamed: 0                                              title  \\\n",
       "0           0  FACEBOOK DELETES MICHIGAN ANTI-LOCKDOWN GROUP ...   \n",
       "1           1   Other Viewpoints: COVID-19 is worse than the flu   \n",
       "2           2               Bermuda's COVID-19 cases surpass 100   \n",
       "3           3  Purdue University says students face 'close to...   \n",
       "4           4  THE HIGH COST OF LOCKING DOWN AMERICA: “WE’VE ...   \n",
       "\n",
       "                                                text      subcategory  label  \n",
       "0  Facebook has shuttered a popular group for Mic...       false news      0  \n",
       "1  We can now officially put to rest all comparis...             true      1  \n",
       "2  The Ministry of Health in Bermuda has confirme...             true      1  \n",
       "3  Purdue University President Mitch Daniels, the...  partially false      0  \n",
       "4  Locking down much of the country may have help...       false news      0  "
      ]
     },
     "execution_count": 65,
     "metadata": {},
     "output_type": "execute_result"
    }
   ],
   "source": [
    "df2.head(5)"
   ]
  },
  {
   "cell_type": "code",
   "execution_count": 46,
   "id": "78deaed2",
   "metadata": {},
   "outputs": [
    {
     "data": {
      "text/plain": [
       "0    11215\n",
       "1     2636\n",
       "Name: label, dtype: int64"
      ]
     },
     "execution_count": 46,
     "metadata": {},
     "output_type": "execute_result"
    }
   ],
   "source": [
    "df1['label'].value_counts()"
   ]
  },
  {
   "cell_type": "markdown",
   "id": "5a090528",
   "metadata": {},
   "source": [
    "# 3rd dataset\n"
   ]
  },
  {
   "cell_type": "code",
   "execution_count": 47,
   "id": "e3ee89f8",
   "metadata": {},
   "outputs": [],
   "source": [
    "df3=pd.read_csv(\"convertcsv.csv\")"
   ]
  },
  {
   "cell_type": "code",
   "execution_count": 66,
   "id": "bd8190df",
   "metadata": {},
   "outputs": [
    {
     "data": {
      "text/html": [
       "<div>\n",
       "<style scoped>\n",
       "    .dataframe tbody tr th:only-of-type {\n",
       "        vertical-align: middle;\n",
       "    }\n",
       "\n",
       "    .dataframe tbody tr th {\n",
       "        vertical-align: top;\n",
       "    }\n",
       "\n",
       "    .dataframe thead th {\n",
       "        text-align: right;\n",
       "    }\n",
       "</style>\n",
       "<table border=\"1\" class=\"dataframe\">\n",
       "  <thead>\n",
       "    <tr style=\"text-align: right;\">\n",
       "      <th></th>\n",
       "      <th>title</th>\n",
       "      <th>text</th>\n",
       "      <th>source</th>\n",
       "      <th>label</th>\n",
       "    </tr>\n",
       "  </thead>\n",
       "  <tbody>\n",
       "    <tr>\n",
       "      <th>0</th>\n",
       "      <td>Due to the recent outbreak for the Coronavirus...</td>\n",
       "      <td>You just need to add water, and the drugs and ...</td>\n",
       "      <td>coronavirusmedicalkit.com</td>\n",
       "      <td>Fake</td>\n",
       "    </tr>\n",
       "    <tr>\n",
       "      <th>1</th>\n",
       "      <td>NaN</td>\n",
       "      <td>Hydroxychloroquine has been shown to have a 10...</td>\n",
       "      <td>RudyGiuliani</td>\n",
       "      <td>Fake</td>\n",
       "    </tr>\n",
       "    <tr>\n",
       "      <th>2</th>\n",
       "      <td>NaN</td>\n",
       "      <td>Fact: Hydroxychloroquine has been shown to hav...</td>\n",
       "      <td>CharlieKirk</td>\n",
       "      <td>Fake</td>\n",
       "    </tr>\n",
       "    <tr>\n",
       "      <th>3</th>\n",
       "      <td>NaN</td>\n",
       "      <td>The Corona virus is a man made virus created i...</td>\n",
       "      <td>JoanneWrightForCongress</td>\n",
       "      <td>Fake</td>\n",
       "    </tr>\n",
       "    <tr>\n",
       "      <th>4</th>\n",
       "      <td>NaN</td>\n",
       "      <td>Doesn’t @BillGates finance research at the Wuh...</td>\n",
       "      <td>JoanneWrightForCongress</td>\n",
       "      <td>Fake</td>\n",
       "    </tr>\n",
       "  </tbody>\n",
       "</table>\n",
       "</div>"
      ],
      "text/plain": [
       "                                               title  \\\n",
       "0  Due to the recent outbreak for the Coronavirus...   \n",
       "1                                                NaN   \n",
       "2                                                NaN   \n",
       "3                                                NaN   \n",
       "4                                                NaN   \n",
       "\n",
       "                                                text  \\\n",
       "0  You just need to add water, and the drugs and ...   \n",
       "1  Hydroxychloroquine has been shown to have a 10...   \n",
       "2  Fact: Hydroxychloroquine has been shown to hav...   \n",
       "3  The Corona virus is a man made virus created i...   \n",
       "4  Doesn’t @BillGates finance research at the Wuh...   \n",
       "\n",
       "                      source label  \n",
       "0  coronavirusmedicalkit.com  Fake  \n",
       "1               RudyGiuliani  Fake  \n",
       "2                CharlieKirk  Fake  \n",
       "3    JoanneWrightForCongress  Fake  \n",
       "4    JoanneWrightForCongress  Fake  "
      ]
     },
     "execution_count": 66,
     "metadata": {},
     "output_type": "execute_result"
    }
   ],
   "source": [
    "df3.head(5)"
   ]
  },
  {
   "cell_type": "code",
   "execution_count": 49,
   "id": "a1b44004",
   "metadata": {},
   "outputs": [
    {
     "data": {
      "text/plain": [
       "TRUE    584\n",
       "Fake    345\n",
       "fake    230\n",
       "Name: label, dtype: int64"
      ]
     },
     "execution_count": 49,
     "metadata": {},
     "output_type": "execute_result"
    }
   ],
   "source": [
    "df3['label'].value_counts()"
   ]
  },
  {
   "cell_type": "code",
   "execution_count": 50,
   "id": "c96b9150",
   "metadata": {},
   "outputs": [],
   "source": [
    "df3 = df3.replace({'label': {'TRUE':\"1\"}})"
   ]
  },
  {
   "cell_type": "code",
   "execution_count": 51,
   "id": "a846ccf0",
   "metadata": {},
   "outputs": [
    {
     "data": {
      "text/plain": [
       "1       584\n",
       "Fake    345\n",
       "fake    230\n",
       "Name: label, dtype: int64"
      ]
     },
     "execution_count": 51,
     "metadata": {},
     "output_type": "execute_result"
    }
   ],
   "source": [
    "df3['label'].value_counts()"
   ]
  },
  {
   "cell_type": "code",
   "execution_count": 52,
   "id": "fe6f8693",
   "metadata": {},
   "outputs": [],
   "source": [
    "frames=[df2,df3]"
   ]
  },
  {
   "cell_type": "code",
   "execution_count": 53,
   "id": "c6906f67",
   "metadata": {},
   "outputs": [],
   "source": [
    "result=pd.concat(frames)"
   ]
  },
  {
   "cell_type": "code",
   "execution_count": 54,
   "id": "8640fc01",
   "metadata": {},
   "outputs": [
    {
     "data": {
      "text/html": [
       "<div>\n",
       "<style scoped>\n",
       "    .dataframe tbody tr th:only-of-type {\n",
       "        vertical-align: middle;\n",
       "    }\n",
       "\n",
       "    .dataframe tbody tr th {\n",
       "        vertical-align: top;\n",
       "    }\n",
       "\n",
       "    .dataframe thead th {\n",
       "        text-align: right;\n",
       "    }\n",
       "</style>\n",
       "<table border=\"1\" class=\"dataframe\">\n",
       "  <thead>\n",
       "    <tr style=\"text-align: right;\">\n",
       "      <th></th>\n",
       "      <th>Unnamed: 0</th>\n",
       "      <th>title</th>\n",
       "      <th>text</th>\n",
       "      <th>subcategory</th>\n",
       "      <th>label</th>\n",
       "      <th>source</th>\n",
       "    </tr>\n",
       "  </thead>\n",
       "  <tbody>\n",
       "    <tr>\n",
       "      <th>0</th>\n",
       "      <td>0.0</td>\n",
       "      <td>FACEBOOK DELETES MICHIGAN ANTI-LOCKDOWN GROUP ...</td>\n",
       "      <td>Facebook has shuttered a popular group for Mic...</td>\n",
       "      <td>false news</td>\n",
       "      <td>0</td>\n",
       "      <td>NaN</td>\n",
       "    </tr>\n",
       "    <tr>\n",
       "      <th>1</th>\n",
       "      <td>1.0</td>\n",
       "      <td>Other Viewpoints: COVID-19 is worse than the flu</td>\n",
       "      <td>We can now officially put to rest all comparis...</td>\n",
       "      <td>true</td>\n",
       "      <td>1</td>\n",
       "      <td>NaN</td>\n",
       "    </tr>\n",
       "    <tr>\n",
       "      <th>2</th>\n",
       "      <td>2.0</td>\n",
       "      <td>Bermuda's COVID-19 cases surpass 100</td>\n",
       "      <td>The Ministry of Health in Bermuda has confirme...</td>\n",
       "      <td>true</td>\n",
       "      <td>1</td>\n",
       "      <td>NaN</td>\n",
       "    </tr>\n",
       "    <tr>\n",
       "      <th>3</th>\n",
       "      <td>3.0</td>\n",
       "      <td>Purdue University says students face 'close to...</td>\n",
       "      <td>Purdue University President Mitch Daniels, the...</td>\n",
       "      <td>partially false</td>\n",
       "      <td>0</td>\n",
       "      <td>NaN</td>\n",
       "    </tr>\n",
       "    <tr>\n",
       "      <th>4</th>\n",
       "      <td>4.0</td>\n",
       "      <td>THE HIGH COST OF LOCKING DOWN AMERICA: “WE’VE ...</td>\n",
       "      <td>Locking down much of the country may have help...</td>\n",
       "      <td>false news</td>\n",
       "      <td>0</td>\n",
       "      <td>NaN</td>\n",
       "    </tr>\n",
       "    <tr>\n",
       "      <th>...</th>\n",
       "      <td>...</td>\n",
       "      <td>...</td>\n",
       "      <td>...</td>\n",
       "      <td>...</td>\n",
       "      <td>...</td>\n",
       "      <td>...</td>\n",
       "    </tr>\n",
       "    <tr>\n",
       "      <th>995</th>\n",
       "      <td>879.0</td>\n",
       "      <td>Inc Corona Virus Hits Turkish Parliament</td>\n",
       "      <td>to avoid punishment men who have sex with u-18...</td>\n",
       "      <td>false news</td>\n",
       "      <td>0</td>\n",
       "      <td>NaN</td>\n",
       "    </tr>\n",
       "    <tr>\n",
       "      <th>996</th>\n",
       "      <td>880.0</td>\n",
       "      <td>Chinese Movie Theaters Are Shutting Down Due t...</td>\n",
       "      <td>Thousands of movie theaters in China have clos...</td>\n",
       "      <td>true</td>\n",
       "      <td>1</td>\n",
       "      <td>NaN</td>\n",
       "    </tr>\n",
       "    <tr>\n",
       "      <th>997</th>\n",
       "      <td>881.0</td>\n",
       "      <td>County takes precautions against corona virus</td>\n",
       "      <td>Otero and Crowley County Health Director Rick ...</td>\n",
       "      <td>true</td>\n",
       "      <td>1</td>\n",
       "      <td>NaN</td>\n",
       "    </tr>\n",
       "    <tr>\n",
       "      <th>998</th>\n",
       "      <td>882.0</td>\n",
       "      <td>What is the Corona Virus?</td>\n",
       "      <td>Bill Gates was probably funding groups that we...</td>\n",
       "      <td>true</td>\n",
       "      <td>1</td>\n",
       "      <td>NaN</td>\n",
       "    </tr>\n",
       "    <tr>\n",
       "      <th>999</th>\n",
       "      <td>883.0</td>\n",
       "      <td>Shipping industry responds to 2019-nCoV threat</td>\n",
       "      <td>Costa Venezia with 5,000 passengers onboard wa...</td>\n",
       "      <td>true</td>\n",
       "      <td>1</td>\n",
       "      <td>NaN</td>\n",
       "    </tr>\n",
       "  </tbody>\n",
       "</table>\n",
       "<p>1000 rows × 6 columns</p>\n",
       "</div>"
      ],
      "text/plain": [
       "     Unnamed: 0                                              title  \\\n",
       "0           0.0  FACEBOOK DELETES MICHIGAN ANTI-LOCKDOWN GROUP ...   \n",
       "1           1.0   Other Viewpoints: COVID-19 is worse than the flu   \n",
       "2           2.0               Bermuda's COVID-19 cases surpass 100   \n",
       "3           3.0  Purdue University says students face 'close to...   \n",
       "4           4.0  THE HIGH COST OF LOCKING DOWN AMERICA: “WE’VE ...   \n",
       "..          ...                                                ...   \n",
       "995       879.0           Inc Corona Virus Hits Turkish Parliament   \n",
       "996       880.0  Chinese Movie Theaters Are Shutting Down Due t...   \n",
       "997       881.0      County takes precautions against corona virus   \n",
       "998       882.0                          What is the Corona Virus?   \n",
       "999       883.0     Shipping industry responds to 2019-nCoV threat   \n",
       "\n",
       "                                                  text      subcategory label  \\\n",
       "0    Facebook has shuttered a popular group for Mic...       false news     0   \n",
       "1    We can now officially put to rest all comparis...             true     1   \n",
       "2    The Ministry of Health in Bermuda has confirme...             true     1   \n",
       "3    Purdue University President Mitch Daniels, the...  partially false     0   \n",
       "4    Locking down much of the country may have help...       false news     0   \n",
       "..                                                 ...              ...   ...   \n",
       "995  to avoid punishment men who have sex with u-18...       false news     0   \n",
       "996  Thousands of movie theaters in China have clos...             true     1   \n",
       "997  Otero and Crowley County Health Director Rick ...             true     1   \n",
       "998  Bill Gates was probably funding groups that we...             true     1   \n",
       "999  Costa Venezia with 5,000 passengers onboard wa...             true     1   \n",
       "\n",
       "    source  \n",
       "0      NaN  \n",
       "1      NaN  \n",
       "2      NaN  \n",
       "3      NaN  \n",
       "4      NaN  \n",
       "..     ...  \n",
       "995    NaN  \n",
       "996    NaN  \n",
       "997    NaN  \n",
       "998    NaN  \n",
       "999    NaN  \n",
       "\n",
       "[1000 rows x 6 columns]"
      ]
     },
     "execution_count": 54,
     "metadata": {},
     "output_type": "execute_result"
    }
   ],
   "source": [
    "result.head(1000)"
   ]
  },
  {
   "cell_type": "code",
   "execution_count": 55,
   "id": "a96f1536",
   "metadata": {},
   "outputs": [
    {
     "data": {
      "text/plain": [
       "1       2061\n",
       "0       1058\n",
       "1        584\n",
       "Fake     345\n",
       "fake     230\n",
       "Name: label, dtype: int64"
      ]
     },
     "execution_count": 55,
     "metadata": {},
     "output_type": "execute_result"
    }
   ],
   "source": [
    "result[\"label\"].value_counts()"
   ]
  },
  {
   "cell_type": "code",
   "execution_count": 56,
   "id": "e3dce165",
   "metadata": {},
   "outputs": [],
   "source": [
    "result[\"label\"]= result[\"label\"].astype(str)"
   ]
  },
  {
   "cell_type": "code",
   "execution_count": 57,
   "id": "9ab3c7cd",
   "metadata": {},
   "outputs": [
    {
     "data": {
      "text/plain": [
       "1       2645\n",
       "0       1058\n",
       "Fake     345\n",
       "fake     230\n",
       "nan        5\n",
       "Name: label, dtype: int64"
      ]
     },
     "execution_count": 57,
     "metadata": {},
     "output_type": "execute_result"
    }
   ],
   "source": [
    "result[\"label\"].value_counts()"
   ]
  },
  {
   "cell_type": "code",
   "execution_count": 58,
   "id": "7b2d535d",
   "metadata": {},
   "outputs": [
    {
     "data": {
      "text/plain": [
       "33      fake\n",
       "44      fake\n",
       "115     fake\n",
       "116     fake\n",
       "117     fake\n",
       "        ... \n",
       "1013    fake\n",
       "1014    fake\n",
       "1015    fake\n",
       "1016    fake\n",
       "1042    fake\n",
       "Name: label, Length: 230, dtype: object"
      ]
     },
     "execution_count": 58,
     "metadata": {},
     "output_type": "execute_result"
    }
   ],
   "source": [
    "result.label[result[\"label\"]==\"fake\"] "
   ]
  },
  {
   "cell_type": "code",
   "execution_count": 59,
   "id": "1633b488",
   "metadata": {},
   "outputs": [],
   "source": [
    "result = result.replace({'label': {'Fake':\"0\"}})"
   ]
  },
  {
   "cell_type": "code",
   "execution_count": 60,
   "id": "b7f49ba9",
   "metadata": {},
   "outputs": [],
   "source": [
    "result = result.replace({'label': {'fake':\"0\"}})"
   ]
  },
  {
   "cell_type": "code",
   "execution_count": 61,
   "id": "3a700ec6",
   "metadata": {},
   "outputs": [
    {
     "data": {
      "text/plain": [
       "1      2645\n",
       "0      1633\n",
       "nan       5\n",
       "Name: label, dtype: int64"
      ]
     },
     "execution_count": 61,
     "metadata": {},
     "output_type": "execute_result"
    }
   ],
   "source": [
    "result[\"label\"].value_counts()\n"
   ]
  },
  {
   "cell_type": "code",
   "execution_count": 62,
   "id": "45d8468b",
   "metadata": {},
   "outputs": [],
   "source": [
    "result.drop(result[result['label'] == \"nan\"].index, inplace=True)"
   ]
  },
  {
   "cell_type": "code",
   "execution_count": 63,
   "id": "1e616011",
   "metadata": {},
   "outputs": [
    {
     "data": {
      "text/plain": [
       "1    2644\n",
       "0    1629\n",
       "Name: label, dtype: int64"
      ]
     },
     "execution_count": 63,
     "metadata": {},
     "output_type": "execute_result"
    }
   ],
   "source": [
    "result[\"label\"].value_counts()\n"
   ]
  }
 ],
 "metadata": {
  "kernelspec": {
   "display_name": "Python 3 (ipykernel)",
   "language": "python",
   "name": "python3"
  },
  "language_info": {
   "codemirror_mode": {
    "name": "ipython",
    "version": 3
   },
   "file_extension": ".py",
   "mimetype": "text/x-python",
   "name": "python",
   "nbconvert_exporter": "python",
   "pygments_lexer": "ipython3",
   "version": "3.9.7"
  }
 },
 "nbformat": 4,
 "nbformat_minor": 5
}
